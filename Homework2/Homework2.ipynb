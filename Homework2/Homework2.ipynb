{
 "cells": [
  {
   "cell_type": "markdown",
   "id": "8da2c558",
   "metadata": {},
   "source": [
    "## HOMEWORK 2\n",
    "### Gabriel Lara 00215784\n"
   ]
  },
  {
   "cell_type": "markdown",
   "id": "13d7c8eb",
   "metadata": {},
   "source": [
    "## Exercise 1:\n",
    "\n",
    "1. Suppose a password is chosen as a concatenation of seven lower-case dictionary words. Each word is selected uniformly at random from a dictionary of size 50,000. An example of such a password is \"mothercathousefivenextcrossroom\". How many bits of entropy does this have?\n"
   ]
  },
  {
   "cell_type": "code",
   "execution_count": 7,
   "id": "85149936",
   "metadata": {},
   "outputs": [
    {
     "name": "stdout",
     "output_type": "stream",
     "text": [
      "The entropy is: 109.26748332105768 bits.\n"
     ]
    }
   ],
   "source": [
    "import math\n",
    "\n",
    "# Dicctionary size\n",
    "dict_size = 50000\n",
    "\n",
    "# Sevel low case concatenation words\n",
    "password_length = 7\n",
    "\n",
    "# possible passwords\n",
    "total_passwords = dict_size ** password_length\n",
    "\n",
    "# Bits of entropy\n",
    "entropy = math.log2(total_passwords)\n",
    "\n",
    "print(f\"The entropy is: {entropy} bits.\")\n"
   ]
  },
  {
   "cell_type": "code",
   "execution_count": 8,
   "id": "c3afafc3",
   "metadata": {},
   "outputs": [
    {
     "name": "stdout",
     "output_type": "stream",
     "text": [
      "The entropy is: 59.54196310386875 bits.\n"
     ]
    }
   ],
   "source": [
    "## 2. Consider an alternative scheme where a password is chosen as a sequence of 10 random alphanumeric characters \n",
    "## (including both lower-case and upper-case letters). An example is \"dA3mG67Rrs\". How many bits of entropy does this have?\n",
    "\n",
    "import math\n",
    "\n",
    "# Dicctionary size\n",
    "char_set_size = 26 + 26 + 10\n",
    "\n",
    "# Passoword length concatenation words\n",
    "password_length = 10\n",
    "\n",
    "# possible passwords\n",
    "total_passwords = char_set_size ** password_length\n",
    "\n",
    "# Bits of entropy\n",
    "entropy = math.log2(total_passwords)\n",
    "\n",
    "print(f\"The entropy is: {entropy} bits.\")\n"
   ]
  },
  {
   "cell_type": "markdown",
   "id": "63cac233",
   "metadata": {},
   "source": [
    "## 3. Which password is better, the one from 1. or 2.?\n",
    "\n",
    "According to the results, we determined that literal 1. is a better option for passwords since it has a larger entropy value, so the password it would be less predictable"
   ]
  },
  {
   "cell_type": "markdown",
   "id": "73c033b0",
   "metadata": {},
   "source": [
    "## Exercise 2:\n",
    "\n",
    "#### 1. Design a data verification system using hash functions. Explain the steps involved in the process.\n",
    "\n",
    "\n",
    "###### 1. Choosing a Hash Function:\n",
    "Select a cryptographic hash function like SHA-256. This function takes an input (referred to as a 'message') \n",
    "and produces a fixed-size string of bytes. \n",
    "The resulting output, known as a 'digest', is unique for each distinct input.\n",
    "\n",
    "###### 2. Hashing the Original Data:\n",
    "Apply the chosen hash function to the data you want to authenticate. \n",
    "This process generates a hash value or digest.\n",
    "\n",
    "###### 3. Securely Storing the Hash Value:\n",
    "Safely store the hash value for later use in verification.\n",
    "\n",
    "###### 4. Rehashing and Verification Comparison:\n",
    "When you wish to confirm the integrity of the data, reapply the same hash function to it. \n",
    "This will yield a new hash value. Compare this new value with the one stored previously. \n",
    "If they align, it signifies that the data remains unaltered. \n",
    "A mismatch indicates that the data has been changed since it was originally hashed.\n",
    "\n",
    "###### 5. Dealing with Modifications:\n",
    "In the event of data alteration, your system should have a protocol in place to address this. \n",
    "For instance, it might choose to reject the data, notify an administrator, \n",
    "or execute another predetermined action.\n",
    "\n",
    "\n",
    "\n"
   ]
  },
  {
   "cell_type": "markdown",
   "id": "4504a528",
   "metadata": {},
   "source": [
    "### 2. Discuss the advantages and disadvantages of using hash functions for data verification.\n",
    "\n",
    "#### Advantages:\n",
    "\n",
    "- Data Integrity: Hash functions can verify data integrity. If data is altered in any way, the hash value will change, indicating that the data is not the same as the original.\n",
    "\n",
    "- Efficiency: Hash functions are computationally efficient. They can process large amounts of data quickly and produce a fixed-size hash value.\n",
    "\n",
    "- Duplicate Prevention: Hash functions can be used to detect duplicates. If two sets of data have the same hash value, it is likely that the data is identical.\n",
    "\n",
    "- Anonymity: Since hash functions are one-way and computationally difficult to retrieve the original data from the hash value, they can be used to maintain data anonymity.\n",
    "\n",
    "#### Disadvantages:\n",
    "\n",
    "- Collisions: Although rare, two different sets of data can produce the same hash value, known as a collision. This can be a problem in certain cases, such as in cryptographic security.\n",
    "\n",
    "- Irreversibility: Once data has been converted to a hash value, it cannot be reverted to its original form. This can be a disadvantage if you need to retrieve the original data.\n",
    "\n",
    "- Lack of Uniqueness: Although collisions are rare, there is no guarantee that hash values are unique for each unique set of data. This can be problematic in applications like databases, where uniqueness may be important.\n",
    "\n",
    "\n",
    "\n",
    "### 3. Provide an example of a real-world application where a data verification system using hash functions is used.\n",
    "\n",
    "For Example in Password Registration:\n",
    "\n",
    "When a user creates an account or sets a password, the system takes the entered password and applies a hash function to generate a hash value.\n",
    "\n",
    "- Storing Hashed Password:\n",
    "\n",
    "The system stores only the hash value of the password in its database, not the actual plaintext password.\n",
    "\n",
    "- Authentication:\n",
    "\n",
    "When a user attempts to log in, they provide their password. The system then applies the same hash function to the provided password, generating a hash value.\n",
    "\n",
    "- Comparing Hash Values:\n",
    "\n",
    " The system compares the generated hash value with the stored hash value in its database.\n",
    "\n",
    "- Granting Access:\n",
    "\n",
    "If the two hash values match, the user is granted access. This means that the entered password is correct.\n",
    "No Storage of Actual Passwords:\n",
    "\n",
    " Since the system only stores the hash values, even if the database is compromised, the attacker would not have access to the actual passwords."
   ]
  },
  {
   "cell_type": "markdown",
   "id": "14306f32",
   "metadata": {},
   "source": [
    "\n",
    "\n",
    "## Exercise 3:\n",
    "\n",
    "### 1. Define what a Message Authentication Code (MAC) is and how it is used in cryptography.\n",
    "\n",
    "A Message Authentication Code (MAC) is a cryptographic technique ensuring both the authenticity of a message and the identity of its sender. Achieved through a short piece of information generated with a secret key, the MAC is sent alongside the original data. Upon receipt, the receiver calculates a MAC using the same key and compares it to the received MAC. A match verifies both the message's integrity and the sender's authenticity. MACs are integral in security protocols like IPsec, SSL/TLS, SSH, and safeguarding credit card transactions from tampering during transmission.\n",
    "\n",
    "\n",
    "\n",
    "### 2. Explain the process of generating and verifying a MAC.\n",
    "\n",
    "\n",
    "The process of generating and verifying a Message Authentication Code (MAC) involves first agreeing on a secret key between the sender and the receiver. Then, the sender creates the MAC using this key and the message data through a cryptographic hash function. Subsequently, the sender sends both the original data and the MAC to the receiver. On the other hand, upon receiving these elements, the receiver generates their own MAC using the same secret key and the received data. Finally, the MAC generated by the receiver is compared with the one received. If they match, it is concluded that the data has not been altered during transmission and originates from the expected sender.\n",
    "\n",
    "\n",
    "\n",
    "### 3. Discuss the importance of using MACs in secure communication systems.\n",
    "\n",
    "- Authentication of Data Origin:\n",
    "A MAC allows the recipient of a message to confirm that the message comes from the expected sender. This is because the MAC is generated using a secret key known only to the sender and the recipient.\n",
    "\n",
    "- Data Integrity:\n",
    "A MAC also enables the recipient to verify that the message has not been altered during transmission. Any change in the message will result in a different MAC. Therefore, if the received MAC matches the calculated MAC, the recipient can be assured that the message has not been tampered with.\n",
    "\n",
    "- Prevention of Replay Attacks:\n",
    "By including unique information in each message (such as a sequence number or a timestamp) before calculating the MAC, a replay attack can be prevented. In a replay attack, an attacker intercepts a message and then retransmits it, hoping to deceive the recipient into believing it is a legitimate communication from the sender.\n",
    "\n",
    "- Efficiency:\n",
    "MACs provide an efficient way to authenticate messages. They are shorter and require fewer computational resources to generate and verify compared to other forms of authentication, such as digital signatures."
   ]
  },
  {
   "cell_type": "markdown",
   "id": "44c1a36b",
   "metadata": {},
   "source": [
    "## Exercise 4:\n",
    "\n",
    "Given the values of p = 17 and q = 23, generate a pair of keys for RSA.\n"
   ]
  },
  {
   "cell_type": "code",
   "execution_count": 11,
   "id": "459fb2a5",
   "metadata": {},
   "outputs": [
    {
     "name": "stdout",
     "output_type": "stream",
     "text": [
      "Public key: (3, 391)\n",
      "Private key: (235, 391)\n"
     ]
    }
   ],
   "source": [
    "import sympy\n",
    "\n",
    "# Given values\n",
    "p = 17\n",
    "q = 23\n",
    "\n",
    "# Compute n = p * q\n",
    "n = p * q\n",
    "\n",
    "# Compute Euler's totient function phi(n) = (p-1) * (q-1)\n",
    "phi_n = (p - 1) * (q - 1)\n",
    "\n",
    "# Choose an integer e such that 1 < e < phi(n) and e is coprime with phi(n)\n",
    "for e in range(2, phi_n):\n",
    "    if sympy.gcd(e, phi_n) == 1:\n",
    "        break\n",
    "\n",
    "# Compute d such that (d * e) % phi(n) = 1\n",
    "d = sympy.mod_inverse(e, phi_n)\n",
    "\n",
    "print(f\"Public key: ({e}, {n})\")\n",
    "print(f\"Private key: ({d}, {n})\")\n"
   ]
  },
  {
   "cell_type": "markdown",
   "id": "8bf8a090",
   "metadata": {},
   "source": [
    "\n",
    "## Exercise 5:\n",
    "\n",
    "### 1. Design a public key infrastructure (PKI) system. Explain the components and their roles in the system.\n",
    "\n",
    "- **End Entities:**\n",
    "\n",
    "  - End entities, which can be individuals, hardware devices (like servers or routers), or software systems (such as web applications), utilize the PKI system to secure their communications and transactions.\n",
    "\n",
    "- **Certificate Authority (CA):**\n",
    "\n",
    "  - The CA serves as the central element of a PKI system. It's a trusted third party responsible for issuing digital certificates to end entities. These certificates validate the ownership of a public key by the specified certificate subject.\n",
    "\n",
    "- **Registration Authority (RA):**\n",
    "\n",
    "  - The RA verifies the identity of end entities prior to CA-issued digital certificate issuance. It functions as an authenticator for the CA.\n",
    "\n",
    "- **Validation Authority (VA):**\n",
    "\n",
    "  - The VA supplies certificate status details to end entities, including checks for revocation or validity.\n",
    "\n",
    "- **Certificate Database and Certificate Store:**\n",
    "\n",
    "  - These components store issued certificates as well as pending or declined certificate requests.\n",
    "\n",
    "- **Key Backup and Recovery:**\n",
    "\n",
    "  - This system enables end entities to create backups of their cryptographic keys for potential recovery in case of loss.\n",
    "\n",
    "- **Cryptographic Device:**\n",
    "\n",
    "  - A secure device like a smart card or hardware security module (HSM) is employed to generate cryptographic keys.\n",
    "\n",
    "\n",
    "### 2. Discuss the advantages and challenges of implementing a PKI system.\n",
    "\n",
    "- **Advantages:**\n",
    "  - **Security:** PKI is one of the most effective methods for implementing public key cryptography, a cornerstone of modern data security. It ensures strong authentication and maintains data integrity and confidentiality.\n",
    "\n",
    "  - **Non-Repudiation:** With PKI, the message sender cannot deny sending it, providing non-repudiation for the transaction.\n",
    "\n",
    "  - **Scalability:** PKI can accommodate a large number of users and is easily scalable to meet increasing demands.\n",
    "\n",
    "  - **Interoperability:** PKI standards are widely accepted, enabling seamless collaboration between different systems and networks.\n",
    "\n",
    "- **Challenges:**\n",
    "  - **Complexity:** Setting up a PKI system can be intricate and demands expertise in cryptography and security.\n",
    "\n",
    "  - **Key Management:** The secure storage, distribution, and revocation of keys are crucial for PKI system security. Poor key management can lead to security breaches.\n",
    "\n",
    "  - **Cost:** Implementing and maintaining a PKI system can be costly, especially for large organizations.\n",
    "\n",
    "  - **Revocation:** Managing certificate revocation can be demanding. It's essential to ensure that once a certificate is revoked, it is no longer trusted by any part of the system.\n",
    "\n",
    "\n",
    "\n",
    "\n",
    "### 3. Provide an example of a real-world application where a PKI system is used.\n",
    "\n",
    "\n",
    "- **Real-world Application: Secure Internet Communication**\n",
    "\n",
    "  One practical application of a Public Key Infrastructure (PKI) system is in Secure Sockets Layer (SSL) and Transport Layer Security (TLS) protocols, which are employed to secure internet communications.\n",
    "\n",
    "  When you access a website with an \"https\" prefix, your browser utilizes SSL/TLS to communicate with the website's server. The server possesses a digital certificate issued by a Certificate Authority (CA), an integral part of a PKI system. This certificate contains the server's public key and additional details like the owning organization's name and the CA's name.\n",
    "\n",
    "  Your browser employs this certificate to verify that it is indeed communicating with the correct server, preventing imposters. It then establishes an encrypted connection with the server, ensuring any data exchanged with the website remains secure and inaccessible to third-party interception or tampering.\n",
    "\n",
    "  This scenario exemplifies how PKI systems find practical application in real-world scenarios. They are also instrumental in securing email communications, authenticating users for VPN access, and various other contexts.\n"
   ]
  },
  {
   "cell_type": "markdown",
   "id": "58ff20fd",
   "metadata": {},
   "source": [
    "\n",
    "## Exercise 6:\n",
    "\n",
    "Design a system for digital signatures based on public-key cryptography. Explain the steps involved in the process and the role of each component.\n",
    "\n",
    "  1. **Key Pair Generation**: Initially, a pair of keys is created - a private key, kept confidential, and a widely distributed public key. These keys are interconnected in such a way that what one encrypts, only the other can decrypt.\n",
    "\n",
    "  2. **Message Signing**: To send a signed message, the user first generates a hash of the message. This hash is then encrypted with the user's private key, producing the digital signature. Both the original message and its digital signature are sent to the recipient.\n",
    "\n",
    "  3. **Signature Verification**: Upon receipt, the recipient decrypts the signature using the sender's public key to retrieve the hash. Simultaneously, the recipient generates a hash of the received message. If the two hashes align, it confirms that the message remains unaltered and was indeed sent by the purported sender.\n",
    "\n",
    "- **Key Components**:\n",
    "\n",
    "  - **Private Key**: Kept confidential, this key is used to encrypt message hashes, effectively 'signing' the message.\n",
    "\n",
    "  - **Public Key**: Widespread distribution allows others to decrypt received digital signatures.\n",
    "\n",
    "  - **Hash Function**: Creates a unique hash of the message. Any alterations in the message result in a distinct hash, enabling the recipient to verify if tampering has occurred.\n",
    "\n",
    "  - **Encryption & Decryption Algorithms**: These algorithms handle the encryption of the message hash with the sender's private key and its decryption with the public key.\n"
   ]
  },
  {
   "cell_type": "code",
   "execution_count": null,
   "id": "17262960",
   "metadata": {},
   "outputs": [],
   "source": []
  }
 ],
 "metadata": {
  "kernelspec": {
   "display_name": "Python 3 (ipykernel)",
   "language": "python",
   "name": "python3"
  },
  "language_info": {
   "codemirror_mode": {
    "name": "ipython",
    "version": 3
   },
   "file_extension": ".py",
   "mimetype": "text/x-python",
   "name": "python",
   "nbconvert_exporter": "python",
   "pygments_lexer": "ipython3",
   "version": "3.11.4"
  }
 },
 "nbformat": 4,
 "nbformat_minor": 5
}
